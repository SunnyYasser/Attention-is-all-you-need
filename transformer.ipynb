{
<<<<<<< HEAD
 "cells": [
  {
   "cell_type": "code",
   "execution_count": 1,
   "metadata": {
    "colab": {},
    "colab_type": "code",
    "id": "oE5rKbpUYh_c"
   },
   "outputs": [],
   "source": [
    "import numpy as mp\n",
    "import torch\n",
    "import torch.nn as nn\n",
    "import torch.nn.functional as F\n",
    "import math,copy,time\n",
    "from torch.autograd import Variable\n",
    "import matplotlib.pyplot as plt\n",
    "import seaborn\n"
   ]
  },
  {
   "cell_type": "code",
   "execution_count": 2,
   "metadata": {
    "colab": {},
    "colab_type": "code",
    "id": "F33BaFaMY48O"
   },
   "outputs": [],
   "source": [
    "seaborn.set_context('talk')\n",
    "%matplotlib inline"
   ]
  },
  {
   "cell_type": "code",
   "execution_count": 11,
   "metadata": {
    "colab": {},
    "colab_type": "code",
    "id": "Bcjqj2n5ZEL4"
   },
   "outputs": [],
   "source": [
    "class EncoderDecoder(nn.Module):\n",
    "    \"A standard encoder decoder architecture\"\n",
    "    def __init__(self,encoder,decoder,src_embed,tgt_embed,generator):\n",
    "        super(EncoderDecoder,self).__init__()\n",
    "        self.encoder = encoder\n",
    "        self.decoder = decoder\n",
    "        self.src_embed = src_embed\n",
    "        self.tgt_embed = tgt_embed\n",
    "        self.generator = generator\n",
    "\n",
    "\n",
    "    def forward(self,src,tgt,src_mask,tgt_mask):\n",
    "        return self.decode(self.encode(src,src_mask),src_mask,tgt,tgt_mask) #check for order of tgt and src_mask\n",
    "\n",
    "    def encode(self,src,src_mask):\n",
    "        return self.encoder(self.src_embed(src),src_mask)\n",
    "\n",
    "    def decode(self,memory,src_mask,tgt,tgt_mask):\n",
    "        \n",
    "        return self.decoder(self.tgt_embed(tgt),memory,src_mask,tgt_mask)"
   ]
  },
  {
   "cell_type": "code",
   "execution_count": 15,
   "metadata": {
    "colab": {},
    "colab_type": "code",
    "id": "kjfPgBiQaA9S"
   },
   "outputs": [],
   "source": [
    "class Generator(nn.Module):\n",
    "    \"Standard Linear + softmax generator step\"\n",
    "\n",
    "    def __init__(self,d_model,vocab):\n",
    "        super(Generator,self).__init__()\n",
    "        self.proj = nn.Linear(d_model,vocab)\n",
    "   \n",
    "    def forward(self,x):\n",
    "        return F.log_softmax(self.proj(x),dim=-1)\n",
    "    \n",
    "  "
   ]
  },
  {
   "cell_type": "code",
   "execution_count": 16,
   "metadata": {
    "colab": {},
    "colab_type": "code",
    "id": "Jrsyi1hPctCc"
   },
   "outputs": [],
   "source": [
    "def clone(module,N):\n",
    "    \"produce N identical layers\"\n",
    "    return nn.ModuleList([copy.deepcopy(module) for _ in range(N)])"
   ]
  },
  {
   "cell_type": "code",
   "execution_count": 18,
   "metadata": {
    "colab": {},
    "colab_type": "code",
    "id": "Qo2IEYzLgu0N"
   },
   "outputs": [],
   "source": [
    "class Encoder(nn.Module):\n",
    "    \"stack of N layers\"\n",
    "    def __init__(self,layer,N):\n",
    "        super(Encoder,self).__init__()\n",
    "        self.layers = clones(layer,N)\n",
    "        self.norm = LayerNorm(layer.size)\n",
    "\n",
    "\n",
    "    def forward(self,x,mask):\n",
    "        for layer in layers:\n",
    "            x = layer(x,mask)\n",
    "        return slef.norm(x)"
   ]
  },
  {
   "cell_type": "code",
   "execution_count": 19,
   "metadata": {
    "colab": {},
    "colab_type": "code",
    "id": "viW--NIGmEdK"
   },
   "outputs": [],
   "source": [
    "class LayerNorm(nn.Module):\n",
    "    def __init_(self,features,eps=1e-6):\n",
    "        super(LayerNorm,self).__init__()\n",
    "        self.a_2 = nn.Parameter(torch.ones(features))\n",
    "        self.b_2 = nn.Parameter(torch.zeros(features))\n",
    "        self.eps = eps\n",
    "\n",
    "    def forward(self,x):\n",
    "        mean = x.mean(-1,keepdims=True)\n",
    "        std = x.std(-1,keepdims = True)\n",
    "        return self.a2 *(x-mean)/(std + self.eps) + self.b_2"
   ]
  },
  {
   "cell_type": "code",
   "execution_count": 20,
   "metadata": {
    "colab": {},
    "colab_type": "code",
    "id": "AX-cCV8nqg4U"
   },
   "outputs": [],
   "source": [
    "class SubLayerConnection(nn.Module):\n",
    "    \"\"\"A residual coonnection foolwed by layer norm\"\"\"\n",
    "    \n",
    "    ##to do"
   ]
  },
  {
   "cell_type": "code",
   "execution_count": null,
   "metadata": {},
   "outputs": [],
   "source": []
  }
 ],
 "metadata": {
  "colab": {
   "name": "Transformer.ipynb",
   "provenance": [],
   "version": "0.3.2"
  },
  "kernelspec": {
   "display_name": "Python 3",
   "language": "python",
   "name": "python3"
  },
  "language_info": {
   "codemirror_mode": {
    "name": "ipython",
    "version": 3
   },
   "file_extension": ".py",
   "mimetype": "text/x-python",
   "name": "python",
   "nbconvert_exporter": "python",
   "pygments_lexer": "ipython3",
   "version": "3.5.2"
  }
 },
 "nbformat": 4,
 "nbformat_minor": 2
}
=======
  "nbformat": 4,
  "nbformat_minor": 0,
  "metadata": {
    "colab": {
      "name": "Transformer.ipynb",
      "version": "0.3.2",
      "provenance": [],
      "include_colab_link": true
    },
    "kernelspec": {
      "name": "python3",
      "display_name": "Python 3"
    }
  },
  "cells": [
    {
      "cell_type": "markdown",
      "metadata": {
        "id": "view-in-github",
        "colab_type": "text"
      },
      "source": [
        "<a href=\"https://colab.research.google.com/github/SunnyYasser/Attention-is-all-you-need-pytorch/blob/master/Transformer.ipynb\" target=\"_parent\"><img src=\"https://colab.research.google.com/assets/colab-badge.svg\" alt=\"Open In Colab\"/></a>"
      ]
    },
    {
      "cell_type": "code",
      "metadata": {
        "id": "oE5rKbpUYh_c",
        "colab_type": "code",
        "colab": {}
      },
      "source": [
        "import numpy as mp\n",
        "import torch\n",
        "import torch.nn as nn\n",
        "import torch.nn.functional as F\n",
        "import math,copy,time\n",
        "from torch.autograd import Variable\n",
        "import matplotlib.pyplot as plt\n",
        "import seaborn\n"
      ],
      "execution_count": 0,
      "outputs": []
    },
    {
      "cell_type": "code",
      "metadata": {
        "id": "F33BaFaMY48O",
        "colab_type": "code",
        "colab": {}
      },
      "source": [
        "seaborn.set_context('talk')\n",
        "%matplotlib inline"
      ],
      "execution_count": 0,
      "outputs": []
    },
    {
      "cell_type": "code",
      "metadata": {
        "id": "Bcjqj2n5ZEL4",
        "colab_type": "code",
        "colab": {}
      },
      "source": [
        "class EncoderDecoder(nn.Module):\n",
        "  \n",
        "  \"\"\"A standard encoder-decoder architecture\"\"\"\n",
        "  \n",
        "  def __init__(self,encoder,decoder,src_embed,tgt_embed,generator):\n",
        "    super(EncoderDecoder,self).__init__()\n",
        "    self.encoder = encoder\n",
        "    self.decoder = decoder\n",
        "    self.src_embed = src_embed\n",
        "    self.tgt_embed = tgt_embed\n",
        "    self.generator = generator\n",
        "    \n",
        "  \n",
        "  def forward(self,src,tgt,src_mask,tgt_mask):\n",
        "    return self.decode(self.encode(src,src_mask),src_mask,tgt,tgt_mask) #check for order of tgt and src_mask\n",
        "  \n",
        "  def encode(self,src,src_mask):\n",
        "    return self.encoder(self.src_embed(src),src_mask)\n",
        "  \n",
        "  def decode(self,memory,src_mask,tgt,tgt_mask):\n",
        "    return self.decoder(self.tgt_embed(tgt),memory,src_mask,tgt_mask)"
      ],
      "execution_count": 0,
      "outputs": []
    },
    {
      "cell_type": "code",
      "metadata": {
        "id": "kjfPgBiQaA9S",
        "colab_type": "code",
        "colab": {}
      },
      "source": [
        "class Generator(nn.Module):\n",
        "  \"Standard Linear + softmax generator step\"\n",
        "  \n",
        "  def __init__(self,d_model,vocab):\n",
        "    super(Generator,self).__init__()\n",
        "    self.proj = nn.Linear(d_model,vocab)\n",
        "   \n",
        "  def forward(self,x):\n",
        "    return F.log_softmax(self.proj(x),dim=-1)\n",
        "    \n",
        "  "
      ],
      "execution_count": 0,
      "outputs": []
    },
    {
      "cell_type": "code",
      "metadata": {
        "id": "Jrsyi1hPctCc",
        "colab_type": "code",
        "colab": {}
      },
      "source": [
        "def clone(module,N):\n",
        "  \"produce N identical layers\"\n",
        "  return nn.ModuleList([copy.deepcopy(module) for _ in range(N)])"
      ],
      "execution_count": 0,
      "outputs": []
    },
    {
      "cell_type": "code",
      "metadata": {
        "id": "Qo2IEYzLgu0N",
        "colab_type": "code",
        "colab": {}
      },
      "source": [
        "class Encoder(nn.Module):\n",
        "  \"stack of N layers\"\n",
        "  def __init__(self,layer,N):\n",
        "    super(Encoder,self).__init__()\n",
        "    self.layers = clones(layer,N)\n",
        "    self.norm = LayerNorm(layer.size)\n",
        "    "
      ],
      "execution_count": 0,
      "outputs": []
    }
  ]
}
>>>>>>> 033618e5116c8400d4dd2d6a500d2b89a8a601b7
